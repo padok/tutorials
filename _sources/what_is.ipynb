{
 "cells": [
  {
   "cell_type": "markdown",
   "id": "accepted-aspect",
   "metadata": {},
   "source": [
    "(sec_what_is)=\n",
    "\n",
    "# What is a tree sequence?\n",
    "\n",
    "(sec_what_is_ancestry)=\n",
    "\n",
    "## A record of genetic ancestry\n",
    "\n",
    "(sec_what_is_dna_data)=\n",
    "\n",
    "## An encoding of DNA data\n",
    "\n",
    "\n",
    "(sec_what_is_analysis)=\n",
    "\n",
    "## An efficient analysis framework"
   ]
  }
 ],
 "metadata": {
  "jupytext": {
   "text_representation": {
    "extension": ".md",
    "format_name": "myst",
    "format_version": 0.12,
    "jupytext_version": "1.9.1"
   }
  },
  "kernelspec": {
   "display_name": "Python 3",
   "language": "python",
   "name": "python3"
  },
  "language_info": {
   "codemirror_mode": {
    "name": "ipython",
    "version": 3
   },
   "file_extension": ".py",
   "mimetype": "text/x-python",
   "name": "python",
   "nbconvert_exporter": "python",
   "pygments_lexer": "ipython3",
   "version": "3.8.7"
  },
  "source_map": [
   12
  ]
 },
 "nbformat": 4,
 "nbformat_minor": 5
}